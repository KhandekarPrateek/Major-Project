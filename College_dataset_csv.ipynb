{
  "nbformat": 4,
  "nbformat_minor": 0,
  "metadata": {
    "colab": {
      "provenance": [],
      "authorship_tag": "ABX9TyM6tVy/n9z51d7F03sgjvVi",
      "include_colab_link": true
    },
    "kernelspec": {
      "name": "python3",
      "display_name": "Python 3"
    },
    "language_info": {
      "name": "python"
    }
  },
  "cells": [
    {
      "cell_type": "markdown",
      "metadata": {
        "id": "view-in-github",
        "colab_type": "text"
      },
      "source": [
        "<a href=\"https://colab.research.google.com/github/KhandekarPrateek/Major-Project/blob/main/College_dataset_csv.ipynb\" target=\"_parent\"><img src=\"https://colab.research.google.com/assets/colab-badge.svg\" alt=\"Open In Colab\"/></a>"
      ]
    },
    {
      "cell_type": "code",
      "execution_count": null,
      "metadata": {
        "colab": {
          "base_uri": "https://localhost:8080/"
        },
        "id": "6chlFITjPP3G",
        "outputId": "3a9457e6-2402-4e05-8ea9-5e0b88bb710c"
      },
      "outputs": [
        {
          "output_type": "stream",
          "name": "stdout",
          "text": [
            "    S. No. Locally Known Name         Botanical Name\n",
            "0        1               Bija  Pterocarpus Marsupium\n",
            "1        2              Haidu     Haldina Cordifolia\n",
            "2        3              Harra     Terminalia Chebula\n",
            "3        4             Baheda   Terminalia Bellirica\n",
            "4        5              Arjun      Terminalia Arjuna\n",
            "..     ...                ...                    ...\n",
            "61      62        Sarpagandha   Rauvolfia Serpentina\n",
            "62      63            Sindoor          Bixa Orellana\n",
            "63      64           Shahtoot             Morus Alba\n",
            "64      65             Aritha     Sapindus Mukorossi\n",
            "65      66            Ramphal      Annona Reticulata\n",
            "\n",
            "[66 rows x 3 columns]\n"
          ]
        }
      ],
      "source": [
        "import pandas as pd\n",
        "\n",
        "# Define the table data\n",
        "data = [\n",
        "    [1, \"Bija\", \"Pterocarpus Marsupium\"],\n",
        "    [2, \"Haidu\", \"Haldina Cordifolia\"],\n",
        "    [3, \"Harra\", \"Terminalia Chebula\"],\n",
        "    [4, \"Baheda\", \"Terminalia Bellirica\"],\n",
        "    [5, \"Arjun\", \"Terminalia Arjuna\"],\n",
        "    [6, \"Mahua\", \"Madhuca Longifolia\"],\n",
        "    [7, \"Saja\", \"Terminalia Tomentosa\"],\n",
        "    [8, \"Neem\", \"Azadirachta Indica\"],\n",
        "    [9, \"Kusum\", \"Schleichera Oleosa\"],\n",
        "    [10, \"Anjan\", \"Hardwickia Binata\"],\n",
        "    [11, \"Shishu\", \"Dalbergia Sissoo\"],\n",
        "    [12, \"Safed Siris\", \"Albizia Procera\"],\n",
        "    [13, \"Tinsa\", \"Putranjiva Roxburghii Wall\"],\n",
        "    [14, \"Jamun\", \"Syzygium Cumini\"],\n",
        "    [15, \"Mango\", \"Mangifera Indica\"],\n",
        "    [16, \"Gular\", \"Ficus Racemosa\"],\n",
        "    [17, \"Kala Shisham\", \"Dalbergia Latifolia\"],\n",
        "    [18, \"Khamer\", \"Gmelina Arborea\"],\n",
        "    [19, \"Amaltas\", \"Cassia Fistula\"],\n",
        "    [20, \"Khirni\", \"Manilkara Hexandra\"],\n",
        "    [21, \"Imli\", \"Tamarindus Indica\"],\n",
        "    [22, \"Spathodea\", \"Spathodea Campanulata\"],\n",
        "    [23, \"Kabeet\", \"Limonia Acidissima\"],\n",
        "    [24, \"Dhawada\", \"Anogeissus Latifolia\"],\n",
        "    [25, \"Soanpatha\", \"Oroxylum Indicum\"],\n",
        "    [26, \"Dhoban\", \"Terminalia Catappa\"],\n",
        "    [27, \"Dhaman\", \"Grewia Tiliifolia\"],\n",
        "    [28, \"Chirol\", \"Holoptelea Integrifolia\"],\n",
        "    [29, \"Lasoda\", \"Cordia Dichotoma\"],\n",
        "    [30, \"Amla\", \"Phyllanthus Emblica\"],\n",
        "    [31, \"Ber\", \"Ziziphus Mauritiana\"],\n",
        "    [32, \"Kachnar\", \"Bauhinia Variegata\"],\n",
        "    [33, \"Mundi\", \"Sphaeranthus Indicus\"],\n",
        "    [34, \"Bel\", \"Aegle Marmelos\"],\n",
        "    [35, \"Khair\", \"Senegalia Catechu\"],\n",
        "    [36, \"Putranjiva\", \"Putranjiva Roxburghii Wall\"],\n",
        "    [37, \"Palash\", \"Butea Monosperma\"],\n",
        "    [38, \"Garud Vraksha\", \"Radermachera Xylocarpa\"],\n",
        "    [39, \"Sita Ashok\", \"Saraca Asoca\"],\n",
        "    [40, \"Jacaranda\", \"Jacaranda Mimosifolia\"],\n",
        "    [41, \"Shami\", \"Prosopis Cineraria\"],\n",
        "    [42, \"Jack Fruit\", \"Artocarpus Heterophyllus\"],\n",
        "    [43, \"Kumbhi\", \"Careya Arborea\"],\n",
        "    [44, \"Gabdu\", \"Cochlospermum Religiosum\"],\n",
        "    [45, \"Gadha Palash\", \"Erythrina Suberosa\"],\n",
        "    [46, \"Maulshree\", \"Mimusops Elengi\"],\n",
        "    [47, \"Papda\", \"Dalbergia Gardenia\"],\n",
        "    [48, \"Sitafal\", \"Annona Squamosa\"],\n",
        "    [49, \"Amrud\", \"Psidium Guajava\"],\n",
        "    [50, \"Gudhal\", \"Hibiscus\"],\n",
        "    [51, \"Raat Rani\", \"Cestrum Nocturnum\"],\n",
        "    [52, \"Shatavari\", \"Asparagus Racemosus\"],\n",
        "    [53, \"Chandani\", \"Tabernaemontana Divaricata\"],\n",
        "    [54, \"Karonda\", \"Carissa Carandas\"],\n",
        "    [55, \"Jarul\", \"Lagerstroemia Speciosa\"],\n",
        "    [56, \"Tabebuia\", \"Handroanthus Impetiginosus\"],\n",
        "    [57, \"Harsingar\", \"Nyctanthes Arbor-Tristis\"],\n",
        "    [58, \"Ajwain\", \"Trachyspermum Ammi\"],\n",
        "    [59, \"Tecoma\", \"Tecoma Stans\"],\n",
        "    [60, \"Adusa\", \"Justicia Adhatoda\"],\n",
        "    [61, \"Meethi Neem\", \"Murraya Koenigii\"],\n",
        "    [62, \"Sarpagandha\", \"Rauvolfia Serpentina\"],\n",
        "    [63, \"Sindoor\", \"Bixa Orellana\"],\n",
        "    [64, \"Shahtoot\", \"Morus Alba\"],\n",
        "    [65, \"Aritha\", \"Sapindus Mukorossi\"],\n",
        "    [66, \"Ramphal\", \"Annona Reticulata\"],\n",
        "]\n",
        "\n",
        "# Create a DataFrame\n",
        "df = pd.DataFrame(data, columns=[\"S. No.\", \"Locally Known Name\", \"Botanical Name\"])\n",
        "\n",
        "# Display the DataFrame\n",
        "print(df)\n",
        "\n",
        "# Save the data to a CSV file\n",
        "df.to_csv(\"tree_species.csv\", index=False)\n"
      ]
    },
    {
      "cell_type": "code",
      "source": [],
      "metadata": {
        "id": "-QihmJxpPpkS"
      },
      "execution_count": null,
      "outputs": []
    },
    {
      "cell_type": "code",
      "source": [],
      "metadata": {
        "id": "9pkR9ztRPpnP"
      },
      "execution_count": null,
      "outputs": []
    },
    {
      "cell_type": "code",
      "source": [],
      "metadata": {
        "id": "K3uNbRfNPppw"
      },
      "execution_count": null,
      "outputs": []
    },
    {
      "cell_type": "code",
      "source": [],
      "metadata": {
        "id": "O4aLHT4zPptT"
      },
      "execution_count": null,
      "outputs": []
    }
  ]
}